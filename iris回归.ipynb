{
 "cells": [
  {
   "cell_type": "code",
   "execution_count": 10,
   "metadata": {},
   "outputs": [],
   "source": [
    "import numpy as np\n",
    "import matplotlib.pyplot as plt\n",
    "from sklearn.neighbors import KNeighborsClassifier\n",
    "from sklearn.neighbors import KNeighborsRegressor\n",
    "from sklearn.datasets import load_iris"
   ]
  },
  {
   "cell_type": "code",
   "execution_count": 4,
   "metadata": {},
   "outputs": [
    {
     "data": {
      "text/plain": [
       "array([[0.093949  ],\n",
       "       [0.10109199],\n",
       "       [0.35518029],\n",
       "       [0.4356465 ],\n",
       "       [0.59137213],\n",
       "       [0.71676644],\n",
       "       [1.32277806],\n",
       "       [1.91720759],\n",
       "       [2.0733097 ],\n",
       "       [2.118274  ],\n",
       "       [2.18793606],\n",
       "       [2.28075166],\n",
       "       [2.30739681],\n",
       "       [2.60924161],\n",
       "       [2.6444746 ],\n",
       "       [2.72441591],\n",
       "       [2.74406752],\n",
       "       [2.84022281],\n",
       "       [2.84216974],\n",
       "       [3.01381688],\n",
       "       [3.06047861],\n",
       "       [3.08466998],\n",
       "       [3.08817749],\n",
       "       [3.19960511],\n",
       "       [3.22947057],\n",
       "       [3.4091015 ],\n",
       "       [3.57594683],\n",
       "       [3.87116845],\n",
       "       [3.89078375],\n",
       "       [3.90264588],\n",
       "       [3.95862519],\n",
       "       [3.99579282],\n",
       "       [4.16309923],\n",
       "       [4.35006074],\n",
       "       [4.458865  ],\n",
       "       [4.62798319],\n",
       "       [4.71874039],\n",
       "       [4.72334459],\n",
       "       [4.8183138 ],\n",
       "       [4.89309171]])"
      ]
     },
     "execution_count": 4,
     "metadata": {},
     "output_type": "execute_result"
    }
   ],
   "source": [
    "np.random.seed(0)\n",
    "x=np.sort(5*np.random.rand(40,1),axis=0)\n",
    "x"
   ]
  },
  {
   "cell_type": "code",
   "execution_count": 5,
   "metadata": {},
   "outputs": [
    {
     "data": {
      "text/plain": [
       "array([ 0.09381086,  0.10091989,  0.34775941,  0.4219966 ,  0.55750066,\n",
       "        0.65695022,  0.96940081,  0.94059723,  0.87637482,  0.8538402 ,\n",
       "        0.81553704,  0.75839099,  0.74075654,  0.50756044,  0.47689441,\n",
       "        0.40518094,  0.38713765,  0.29682859,  0.29496884,  0.12742837,\n",
       "        0.08102512,  0.05689193,  0.05338977, -0.05797992, -0.08776485,\n",
       "       -0.26432971, -0.42082464, -0.66655347, -0.68104667, -0.68968448,\n",
       "       -0.72911815, -0.75404581, -0.85289554, -0.93507411, -0.96803456,\n",
       "       -0.99643995, -0.99997983, -0.99993999, -0.99439521, -0.98371764])"
      ]
     },
     "execution_count": 5,
     "metadata": {},
     "output_type": "execute_result"
    }
   ],
   "source": [
    "y= np.sin(x).ravel()\n",
    "y"
   ]
  },
  {
   "cell_type": "code",
   "execution_count": 6,
   "metadata": {},
   "outputs": [
    {
     "data": {
      "text/plain": [
       "array([ 0.23430296,  0.10091989,  0.34775941,  0.4219966 ,  0.55750066,\n",
       "        0.71991826,  0.96940081,  0.94059723,  0.87637482,  0.8538402 ,\n",
       "        0.61790585,  0.75839099,  0.74075654,  0.50756044,  0.47689441,\n",
       "        0.84495547,  0.38713765,  0.29682859,  0.29496884,  0.12742837,\n",
       "       -0.08574159,  0.05689193,  0.05338977, -0.05797992, -0.08776485,\n",
       "       -0.43496758, -0.42082464, -0.66655347, -0.68104667, -0.68968448,\n",
       "       -0.43950071, -0.75404581, -0.85289554, -0.93507411, -0.96803456,\n",
       "       -0.62536624, -0.99997983, -0.99993999, -0.99439521, -0.98371764])"
      ]
     },
     "execution_count": 6,
     "metadata": {},
     "output_type": "execute_result"
    }
   ],
   "source": [
    "y[::5]+=1*(0.5-np.random.rand(8))\n",
    "y"
   ]
  },
  {
   "cell_type": "code",
   "execution_count": 8,
   "metadata": {},
   "outputs": [
    {
     "data": {
      "text/plain": [
       "array([[0.        ],\n",
       "       [0.05050505],\n",
       "       [0.1010101 ],\n",
       "       [0.15151515],\n",
       "       [0.2020202 ],\n",
       "       [0.25252525],\n",
       "       [0.3030303 ],\n",
       "       [0.35353535],\n",
       "       [0.4040404 ],\n",
       "       [0.45454545],\n",
       "       [0.50505051],\n",
       "       [0.55555556],\n",
       "       [0.60606061],\n",
       "       [0.65656566],\n",
       "       [0.70707071],\n",
       "       [0.75757576],\n",
       "       [0.80808081],\n",
       "       [0.85858586],\n",
       "       [0.90909091],\n",
       "       [0.95959596],\n",
       "       [1.01010101],\n",
       "       [1.06060606],\n",
       "       [1.11111111],\n",
       "       [1.16161616],\n",
       "       [1.21212121],\n",
       "       [1.26262626],\n",
       "       [1.31313131],\n",
       "       [1.36363636],\n",
       "       [1.41414141],\n",
       "       [1.46464646],\n",
       "       [1.51515152],\n",
       "       [1.56565657],\n",
       "       [1.61616162],\n",
       "       [1.66666667],\n",
       "       [1.71717172],\n",
       "       [1.76767677],\n",
       "       [1.81818182],\n",
       "       [1.86868687],\n",
       "       [1.91919192],\n",
       "       [1.96969697],\n",
       "       [2.02020202],\n",
       "       [2.07070707],\n",
       "       [2.12121212],\n",
       "       [2.17171717],\n",
       "       [2.22222222],\n",
       "       [2.27272727],\n",
       "       [2.32323232],\n",
       "       [2.37373737],\n",
       "       [2.42424242],\n",
       "       [2.47474747],\n",
       "       [2.52525253],\n",
       "       [2.57575758],\n",
       "       [2.62626263],\n",
       "       [2.67676768],\n",
       "       [2.72727273],\n",
       "       [2.77777778],\n",
       "       [2.82828283],\n",
       "       [2.87878788],\n",
       "       [2.92929293],\n",
       "       [2.97979798],\n",
       "       [3.03030303],\n",
       "       [3.08080808],\n",
       "       [3.13131313],\n",
       "       [3.18181818],\n",
       "       [3.23232323],\n",
       "       [3.28282828],\n",
       "       [3.33333333],\n",
       "       [3.38383838],\n",
       "       [3.43434343],\n",
       "       [3.48484848],\n",
       "       [3.53535354],\n",
       "       [3.58585859],\n",
       "       [3.63636364],\n",
       "       [3.68686869],\n",
       "       [3.73737374],\n",
       "       [3.78787879],\n",
       "       [3.83838384],\n",
       "       [3.88888889],\n",
       "       [3.93939394],\n",
       "       [3.98989899],\n",
       "       [4.04040404],\n",
       "       [4.09090909],\n",
       "       [4.14141414],\n",
       "       [4.19191919],\n",
       "       [4.24242424],\n",
       "       [4.29292929],\n",
       "       [4.34343434],\n",
       "       [4.39393939],\n",
       "       [4.44444444],\n",
       "       [4.49494949],\n",
       "       [4.54545455],\n",
       "       [4.5959596 ],\n",
       "       [4.64646465],\n",
       "       [4.6969697 ],\n",
       "       [4.74747475],\n",
       "       [4.7979798 ],\n",
       "       [4.84848485],\n",
       "       [4.8989899 ],\n",
       "       [4.94949495],\n",
       "       [5.        ]])"
      ]
     },
     "execution_count": 8,
     "metadata": {},
     "output_type": "execute_result"
    }
   ],
   "source": [
    "t=np.linspace(0,5,100)[:,np.newaxis]\n",
    "t"
   ]
  },
  {
   "cell_type": "code",
   "execution_count": 9,
   "metadata": {},
   "outputs": [
    {
     "data": {
      "text/plain": [
       "<matplotlib.collections.PathCollection at 0x7fc553c2f128>"
      ]
     },
     "execution_count": 9,
     "metadata": {},
     "output_type": "execute_result"
    },
    {
     "data": {
      "image/png": "[encoded data removed]",
      "text/plain": [
       "<Figure size 432x288 with 1 Axes>"
      ]
     },
     "metadata": {
      "needs_background": "light"
     },
     "output_type": "display_data"
    }
   ],
   "source": [
    "plt.scatter(x,y)"
   ]
  },
  {
   "cell_type": "code",
   "execution_count": 11,
   "metadata": {},
   "outputs": [],
   "source": [
    "knn = KNeighborsRegressor(n_neighbors=5)"
   ]
  },
  {
   "cell_type": "code",
   "execution_count": 13,
   "metadata": {},
   "outputs": [
    {
     "data": {
      "image/png": "[encoded data removed]",
      "text/plain": [
       "<Figure size 432x288 with 1 Axes>"
      ]
     },
     "metadata": {
      "needs_background": "light"
     },
     "output_type": "display_data"
    }
   ],
   "source": [
    "knn.fit(x,y)\n",
    "newy = knn.predict(t)\n",
    "plt.scatter(x,y,c='k',label='data')\n",
    "plt.plot(t,newy,c='k',label='predict')\n",
    "plt.axis('tight')\n",
    "plt.legend()\n",
    "plt.show()"
   ]
  }
 ],
 "metadata": {
  "kernelspec": {
   "display_name": "Python 3",
   "language": "python",
   "name": "python3"
  },
  "language_info": {
   "codemirror_mode": {
    "name": "ipython",
    "version": 3
   },
   "file_extension": ".py",
   "mimetype": "text/x-python",
   "name": "python",
   "nbconvert_exporter": "python",
   "pygments_lexer": "ipython3",
   "version": "3.7.3"
  }
 },
 "nbformat": 4,
 "nbformat_minor": 2
}
