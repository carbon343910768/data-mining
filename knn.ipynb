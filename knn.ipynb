{
 "cells": [
  {
   "cell_type": "code",
   "execution_count": 2,
   "metadata": {
    "collapsed": true
   },
   "outputs": [],
   "source": [
    "import numpy as np\n",
    "import sklearn as skl\n",
    "import pandas as pd"
   ]
  },
  {
   "cell_type": "code",
   "execution_count": 4,
   "metadata": {},
   "outputs": [],
   "source": [
    "data = pd.read_csv('/home/carbon13/jupyter py/pydata/nys-environmental-remediation-sites/environmental-remediation-sites.csv')"
   ]
  },
  {
   "cell_type": "code",
   "execution_count": 7,
   "metadata": {},
   "outputs": [
    {
     "name": "stdout",
     "output_type": "stream",
     "text": [
      "<class 'pandas.core.frame.DataFrame'>\n",
      "RangeIndex: 70323 entries, 0 to 70322\n",
      "Data columns (total 42 columns):\n",
      "Program Number              70323 non-null object\n",
      "Program Type                70323 non-null object\n",
      "Program Facility Name       70323 non-null object\n",
      "Site Class                  70323 non-null object\n",
      "Address1                    70323 non-null object\n",
      "Address2                    21480 non-null object\n",
      "Locality                    70161 non-null object\n",
      "County                      70323 non-null object\n",
      "ZIPCode                     70323 non-null object\n",
      "SWIS Code                   70323 non-null int64\n",
      "DEC Region                  70323 non-null int64\n",
      "Latitude                    70323 non-null float64\n",
      "Longitude                   70323 non-null float64\n",
      "Control Code                70323 non-null object\n",
      "Control Type                70323 non-null object\n",
      "OU                          70323 non-null object\n",
      "Project Name                58251 non-null object\n",
      "Project Completion Date     70262 non-null object\n",
      "Waste Name                  41780 non-null object\n",
      "Contaminants                41175 non-null object\n",
      "Owner Name                  67165 non-null object\n",
      "Owner Address1              66541 non-null object\n",
      "Owner Address2              40263 non-null object\n",
      "Owner City                  66695 non-null object\n",
      "Owner State                 67165 non-null object\n",
      "Owner ZIP                   67165 non-null object\n",
      "Disposal Name               25060 non-null object\n",
      "Disposal Address1           6569 non-null object\n",
      "Disposal Address2           20050 non-null object\n",
      "Disposal City               6626 non-null object\n",
      "Disposal ZIP                25123 non-null object\n",
      "Disposal State              25123 non-null object\n",
      "Operator Name               48626 non-null object\n",
      "Operator Address1           45948 non-null object\n",
      "Operator Address2           41578 non-null object\n",
      "Operator City               46162 non-null object\n",
      "Operator State              48656 non-null object\n",
      "Operator Zip                48656 non-null object\n",
      "Location 1                  70323 non-null object\n",
      "NYS Municipal Boundaries    70323 non-null int64\n",
      "New York Zip Codes          69850 non-null float64\n",
      "Counties                    70230 non-null float64\n",
      "dtypes: float64(4), int64(3), object(35)\n",
      "memory usage: 22.5+ MB\n"
     ]
    }
   ],
   "source": [
    "data.info()"
   ]
  },
  {
   "cell_type": "code",
   "execution_count": null,
   "metadata": {},
   "outputs": [],
   "source": []
  }
 ],
 "metadata": {
  "kernelspec": {
   "display_name": "Python 2",
   "language": "python",
   "name": "python2"
  },
  "language_info": {
   "codemirror_mode": {
    "name": "ipython",
    "version": 3
   },
   "file_extension": ".py",
   "mimetype": "text/x-python",
   "name": "python",
   "nbconvert_exporter": "python",
   "pygments_lexer": "ipython3",
   "version": "3.7.3"
  }
 },
 "nbformat": 4,
 "nbformat_minor": 1
}
