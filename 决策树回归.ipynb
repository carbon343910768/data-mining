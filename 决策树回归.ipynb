{
 "cells": [
  {
   "cell_type": "code",
   "execution_count": 11,
   "metadata": {},
   "outputs": [],
   "source": [
    "from sklearn.neighbors import KNeighborsClassifier\n",
    "from sklearn.tree import DecisionTreeRegressor\n",
    "import sklearn.datasets as datasets\n",
    "import matplotlib.pyplot as plt\n",
    "%matplotlib inline\n",
    "import numpy as np\n",
    "import pandas as pd\n",
    "from sklearn.model_selection import train_test_split"
   ]
  },
  {
   "cell_type": "code",
   "execution_count": 2,
   "metadata": {},
   "outputs": [],
   "source": [
    "x=200*np.random.rand(100,1)-100"
   ]
  },
  {
   "cell_type": "code",
   "execution_count": 3,
   "metadata": {},
   "outputs": [
    {
     "data": {
      "text/plain": [
       "array([[ 90.07449369],\n",
       "       [-57.80356462],\n",
       "       [ 69.31496942],\n",
       "       [-72.7848075 ],\n",
       "       [  1.9876293 ],\n",
       "       [ 43.46491564],\n",
       "       [-85.98418977],\n",
       "       [-31.4681218 ],\n",
       "       [ 54.62221161],\n",
       "       [ 89.5628078 ],\n",
       "       [ 66.2661768 ],\n",
       "       [-66.55077605],\n",
       "       [ 42.85649969],\n",
       "       [ 25.09422254],\n",
       "       [ 47.71022735],\n",
       "       [ 26.36079122],\n",
       "       [ 98.48927708],\n",
       "       [-92.65875656],\n",
       "       [-47.95837569],\n",
       "       [ 95.20834266],\n",
       "       [-23.1459647 ],\n",
       "       [-81.22959556],\n",
       "       [ 96.93000343],\n",
       "       [ 99.27144606],\n",
       "       [  5.21530432],\n",
       "       [ 85.36006815],\n",
       "       [  7.122211  ],\n",
       "       [  1.42923342],\n",
       "       [ 83.89447619],\n",
       "       [ 50.75086351],\n",
       "       [-56.10092909],\n",
       "       [ 57.87340122],\n",
       "       [-43.60479262],\n",
       "       [ 94.65707129],\n",
       "       [-74.81226577],\n",
       "       [ 10.83001803],\n",
       "       [ 68.64088575],\n",
       "       [-33.33332286],\n",
       "       [ -5.01970589],\n",
       "       [ 42.91526113],\n",
       "       [-42.18723444],\n",
       "       [ 24.34164331],\n",
       "       [-48.32609632],\n",
       "       [-32.09221182],\n",
       "       [-44.20947559],\n",
       "       [ 36.68977123],\n",
       "       [-87.78151848],\n",
       "       [ 14.01711072],\n",
       "       [-60.43021965],\n",
       "       [  7.77664296],\n",
       "       [ 53.77434656],\n",
       "       [ 44.40352127],\n",
       "       [-17.08520526],\n",
       "       [ 47.55814924],\n",
       "       [-15.31814547],\n",
       "       [-62.6397726 ],\n",
       "       [-39.91279841],\n",
       "       [ 64.49086964],\n",
       "       [ 67.33233613],\n",
       "       [-35.13745934],\n",
       "       [ 71.85169339],\n",
       "       [ 48.12969386],\n",
       "       [ 10.79171336],\n",
       "       [-23.12378548],\n",
       "       [ 96.61757748],\n",
       "       [-72.7000647 ],\n",
       "       [-17.31703567],\n",
       "       [-84.25962396],\n",
       "       [-96.47394289],\n",
       "       [-46.12410274],\n",
       "       [-24.19478326],\n",
       "       [ 51.45337198],\n",
       "       [ 85.28032295],\n",
       "       [-30.35463461],\n",
       "       [ 22.09926316],\n",
       "       [ -2.55422532],\n",
       "       [-43.00354479],\n",
       "       [-47.97099543],\n",
       "       [ 57.40263242],\n",
       "       [  3.78496382],\n",
       "       [-67.54447957],\n",
       "       [-54.14723937],\n",
       "       [-80.88126872],\n",
       "       [-13.18939078],\n",
       "       [-95.67580811],\n",
       "       [-90.98879816],\n",
       "       [-39.50465562],\n",
       "       [-46.80622974],\n",
       "       [ 64.13029432],\n",
       "       [ 48.52055537],\n",
       "       [-47.1679009 ],\n",
       "       [-75.99484109],\n",
       "       [-99.32147218],\n",
       "       [-25.94137068],\n",
       "       [  5.31967854],\n",
       "       [-81.19286818],\n",
       "       [ 58.48682778],\n",
       "       [ 56.62100643],\n",
       "       [ 16.28630942],\n",
       "       [ 58.12643937]])"
      ]
     },
     "execution_count": 3,
     "metadata": {},
     "output_type": "execute_result"
    }
   ],
   "source": [
    "x"
   ]
  },
  {
   "cell_type": "code",
   "execution_count": 5,
   "metadata": {},
   "outputs": [],
   "source": [
    "x_train=np.sort(x,axis=0)\n",
    "y_train=np.pi*np.array([np.sin(x_train).ravel(),np.cos(x_train).ravel()])"
   ]
  },
  {
   "cell_type": "code",
   "execution_count": 7,
   "metadata": {},
   "outputs": [],
   "source": [
    "y_train=y_train.transpose()"
   ]
  },
  {
   "cell_type": "code",
   "execution_count": 8,
   "metadata": {},
   "outputs": [
    {
     "data": {
      "text/plain": [
       "<matplotlib.collections.PathCollection at 0x7f8aa9207c88>"
      ]
     },
     "execution_count": 8,
     "metadata": {},
     "output_type": "execute_result"
    },
    {
     "data": {
      "image/png": "[encoded data removed]",
      "text/plain": [
       "<Figure size 432x288 with 1 Axes>"
      ]
     },
     "metadata": {
      "needs_background": "light"
     },
     "output_type": "display_data"
    }
   ],
   "source": [
    "plt.scatter(y_train[:,0],y_train[:,1])"
   ]
  },
  {
   "cell_type": "code",
   "execution_count": 9,
   "metadata": {},
   "outputs": [],
   "source": [
    "y_train[::5]+=np.random.rand(20,2)"
   ]
  },
  {
   "cell_type": "code",
   "execution_count": 10,
   "metadata": {},
   "outputs": [
    {
     "data": {
      "text/plain": [
       "<matplotlib.collections.PathCollection at 0x7f8aa8eee160>"
      ]
     },
     "execution_count": 10,
     "metadata": {},
     "output_type": "execute_result"
    },
    {
     "data": {
      "image/png": "[encoded data removed]",
      "text/plain": [
       "<Figure size 432x288 with 1 Axes>"
      ]
     },
     "metadata": {
      "needs_background": "light"
     },
     "output_type": "display_data"
    }
   ],
   "source": [
    "plt.scatter(y_train[:,0],y_train[:,1])"
   ]
  },
  {
   "cell_type": "code",
   "execution_count": 12,
   "metadata": {},
   "outputs": [
    {
     "data": {
      "text/plain": [
       "DecisionTreeRegressor(criterion='mse', max_depth=50, max_features=None,\n",
       "                      max_leaf_nodes=None, min_impurity_decrease=0.0,\n",
       "                      min_impurity_split=None, min_samples_leaf=1,\n",
       "                      min_samples_split=2, min_weight_fraction_leaf=0.0,\n",
       "                      presort=False, random_state=None, splitter='best')"
      ]
     },
     "execution_count": 12,
     "metadata": {},
     "output_type": "execute_result"
    }
   ],
   "source": [
    "tree1 = DecisionTreeRegressor(max_depth=5)\n",
    "tree2 = DecisionTreeRegressor(max_depth=10)\n",
    "tree3 = DecisionTreeRegressor(max_depth=50)\n",
    "tree1.fit(x_train,y_train)\n",
    "tree2.fit(x_train,y_train)\n",
    "tree3.fit(x_train,y_train)"
   ]
  },
  {
   "cell_type": "code",
   "execution_count": 18,
   "metadata": {},
   "outputs": [],
   "source": [
    "x_test=np.arange(-100,100,0.1).reshape(-1,1)"
   ]
  },
  {
   "cell_type": "code",
   "execution_count": 19,
   "metadata": {},
   "outputs": [
    {
     "data": {
      "text/plain": [
       "(2000, 1)"
      ]
     },
     "execution_count": 19,
     "metadata": {},
     "output_type": "execute_result"
    }
   ],
   "source": [
    "x_test.shape"
   ]
  },
  {
   "cell_type": "code",
   "execution_count": 20,
   "metadata": {},
   "outputs": [],
   "source": [
    "y_predict1 = tree1.predict(x_test)\n",
    "y_predict2 = tree2.predict(x_test)\n",
    "y_predict3 = tree3.predict(x_test)"
   ]
  },
  {
   "cell_type": "code",
   "execution_count": 25,
   "metadata": {},
   "outputs": [
    {
     "data": {
      "text/plain": [
       "<matplotlib.collections.PathCollection at 0x7f8aa8a7b208>"
      ]
     },
     "execution_count": 25,
     "metadata": {},
     "output_type": "execute_result"
    },
    {
     "data": {
      "image/png": "[encoded data removed]",
      "text/plain": [
       "<Figure size 432x648 with 3 Axes>"
      ]
     },
     "metadata": {
      "needs_background": "light"
     },
     "output_type": "display_data"
    }
   ],
   "source": [
    "plt.figure(figsize=(6,9))\n",
    "axes1=plt.subplot(3,1,1)\n",
    "axes1.scatter(y_predict1[:,0],y_predict1[:,1])\n",
    "axes2=plt.subplot(3,1,2)\n",
    "axes2.scatter(y_predict2[:,0],y_predict2[:,1])\n",
    "axes3=plt.subplot(3,1,3)\n",
    "axes3.scatter(y_predict3[:,0],y_predict3[:,1])"
   ]
  },
  {
   "cell_type": "code",
   "execution_count": null,
   "metadata": {},
   "outputs": [],
   "source": []
  }
 ],
 "metadata": {
  "kernelspec": {
   "display_name": "Python 3",
   "language": "python",
   "name": "python3"
  },
  "language_info": {
   "codemirror_mode": {
    "name": "ipython",
    "version": 3
   },
   "file_extension": ".py",
   "mimetype": "text/x-python",
   "name": "python",
   "nbconvert_exporter": "python",
   "pygments_lexer": "ipython3",
   "version": "3.7.3"
  }
 },
 "nbformat": 4,
 "nbformat_minor": 2
}
